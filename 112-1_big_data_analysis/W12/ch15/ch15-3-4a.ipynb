{
 "cells": [
  {
   "cell_type": "code",
   "execution_count": null,
   "metadata": {},
   "outputs": [],
   "source": [
    "import pandas as pd\n",
    "from sklearn.linear_model import LinearRegression\n",
    "from sklearn.model_selection import train_test_split\n",
    "import matplotlib.pyplot as plt\n",
    "import seaborn as sns\n",
    "import numpy as np\n",
    "import os\n",
    "\n",
    "os.chdir(os.path.dirname(os.path.abspath(__file__)))\n",
    "print(\"current dir: \" + os.getcwd())\n",
    "\n",
    "raw_df = pd.read_csv(\"boston.csv\", sep=\"\\s+\", skiprows=22, header=None)\n",
    "data = np.hstack([raw_df.values[::2, :], raw_df.values[1::2, :2]])\n",
    "target = raw_df.values[1::2, 2]\n",
    "feature_names = ['CRIM', 'ZN', 'INDUS', 'CHAS', 'NOX', 'RM',\n",
    "                 'AGE', 'DIS', 'RAD', 'TAX', 'PTRATIO', 'B', 'LSTAT']\n",
    "X = pd.DataFrame(data, columns=feature_names)\n",
    "target = pd.DataFrame(target, columns=[\"MEDV\"])\n",
    "y = target[\"MEDV\"]\n",
    "\n",
    "XTrain, XTest, yTrain, yTest = train_test_split(X, y, test_size=0.33,\n",
    "                                                random_state=5)\n",
    "lm = LinearRegression()\n",
    "lm.fit(XTrain, yTrain)\n",
    "\n",
    "pred_train = lm.predict(XTrain)\n",
    "pred_test = lm.predict(XTest)\n",
    "\n",
    "plt.rcParams[\"axes.unicode_minus\"] = False\n",
    "sns.set_style(\"darkgrid\", {\"axes.axisbelow\": False,\n",
    "                       \"font.sans-serif\":['Microsoft JhengHei']})\n",
    "\n",
    "df = pd.DataFrame({\"x\": pred_train, \"y\": yTrain})\n",
    "df2 = pd.DataFrame({\"x\": pred_test, \"y\": yTest})\n",
    "sns.residplot(x=\"x\", y=\"y\", data=df)\n",
    "sns.residplot(x=\"x\", y=\"y\", data=df2)\n",
    "plt.title(\"殘差圖(Residual Plot)\")\n",
    "plt.ylabel(\"殘差值(Residual Value)\")\n",
    "plt.legend()\n",
    "plt.show()\n",
    "plt.show()\n"
   ]
  }
 ],
 "metadata": {
  "language_info": {
   "name": "python"
  }
 },
 "nbformat": 4,
 "nbformat_minor": 2
}
