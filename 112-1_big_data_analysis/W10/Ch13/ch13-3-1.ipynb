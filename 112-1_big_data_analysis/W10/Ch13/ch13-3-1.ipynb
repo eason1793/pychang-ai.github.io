{
 "cells": [
  {
   "cell_type": "code",
   "execution_count": 1,
   "metadata": {},
   "outputs": [
    {
     "name": "stdout",
     "output_type": "stream",
     "text": [
      "current dir: c:\\Users\\PYC\\Desktop\\DEV\\pychang-ai.github.io\\112-1_big_data_analysis\\W10\\Ch13\n"
     ]
    }
   ],
   "source": [
    "import pandas as pd\n",
    "import os\n",
    "\n",
    "print(\"current dir: \" + os.getcwd())\n"
   ]
  },
  {
   "cell_type": "code",
   "execution_count": 2,
   "metadata": {},
   "outputs": [
    {
     "name": "stdout",
     "output_type": "stream",
     "text": [
      "     A    B    C    D\n",
      "0  0.5  0.9  0.4  NaN\n",
      "1  0.8  0.6  NaN  NaN\n",
      "2  0.7  0.3  0.8  0.9\n",
      "3  0.8  0.3  NaN  0.2\n",
      "4  0.9  NaN  0.7  0.3\n",
      "5  0.2  0.7  0.6  NaN\n"
     ]
    }
   ],
   "source": [
    "df = pd.read_csv(\"test.csv\")\n",
    "print(df)\n",
    "df.to_html(\"ch13-3-1.html\")"
   ]
  }
 ],
 "metadata": {
  "kernelspec": {
   "display_name": "bigdata",
   "language": "python",
   "name": "python3"
  },
  "language_info": {
   "codemirror_mode": {
    "name": "ipython",
    "version": 3
   },
   "file_extension": ".py",
   "mimetype": "text/x-python",
   "name": "python",
   "nbconvert_exporter": "python",
   "pygments_lexer": "ipython3",
   "version": "3.8.18"
  }
 },
 "nbformat": 4,
 "nbformat_minor": 2
}
